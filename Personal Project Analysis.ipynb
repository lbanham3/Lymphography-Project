{
 "cells": [
  {
   "cell_type": "markdown",
   "metadata": {},
   "source": [
    "CLASSIFICATION OF LYMPH NODES\n",
    "\n",
    "AUTHOR: Laura Banham\n",
    "\n",
    "DATE STARTED: 05/25/2022\n",
    "\n",
    "Data obtained from: https://archive.ics.uci.edu/ml/datasets/Lymphography\n"
   ]
  },
  {
   "cell_type": "code",
   "execution_count": 18,
   "metadata": {},
   "outputs": [],
   "source": [
    "# Import libraries\n",
    "import pandas as pd\n",
    "from sklearn.model_selection import train_test_split\n",
    "import numpy as np\n",
    "from sklearn.metrics import classification_report, confusion_matrix, roc_curve\n",
    "import matplotlib.pyplot as plt"
   ]
  },
  {
   "cell_type": "code",
   "execution_count": 2,
   "metadata": {},
   "outputs": [],
   "source": [
    "## Import the dataset\n",
    "lymphData = pd.read_excel('lymphography.xlsx')\n",
    "\n",
    "## Format the dataset\n",
    "# Change all object (string) variables to categorical variables\n",
    "cleanLymphData = pd.concat([\n",
    "        lymphData.select_dtypes([], ['object']),\n",
    "        lymphData.select_dtypes(['object']).apply(pd.Series.astype, dtype='category')\n",
    "        ], axis=1).reindex(lymphData.columns, axis=1)\n",
    "\n",
    "# Split the dataset into X and Y variables\n",
    "xVars = cleanLymphData.drop(['Class'], axis=1)\n",
    "# One-hot encode the categorical x variables\n",
    "xVars = pd.get_dummies(data=xVars, drop_first=True)\n",
    "\n",
    "yVar = cleanLymphData['Class']"
   ]
  },
  {
   "cell_type": "code",
   "execution_count": 3,
   "metadata": {},
   "outputs": [],
   "source": [
    "## Additional helper code\n",
    "#print(list(lymphData.columns))\n",
    "#print(lymphData.Lymphatics.unique())\n",
    "#lymphData.info()\n",
    "#cleanLymphData['ClassCat'] = cleanLymphData['Class'].apply(lambda x: 0 if (x == \"normal\") else 1) \n",
    "#print(cleanLymphData[['Class', 'ClassCat']])\n",
    "#xVars = cleanLymphData.iloc[:, :-2]\n",
    "#print(list(xVars.columns))\n",
    "#yVarCat = cleanLymphData.iloc[:, -1]"
   ]
  },
  {
   "cell_type": "code",
   "execution_count": 3,
   "metadata": {},
   "outputs": [],
   "source": [
    "## Exploratory visualizations of the data\n",
    "def printPlots(df):\n",
    "    for i in range(1,19):\n",
    "        name = df.columns[i]\n",
    "        clarity_color_table = pd.crosstab(index=df[name]  , \n",
    "                          columns=df[\"Class\"])\n",
    "\n",
    "        clarity_color_table.plot(kind=\"bar\", \n",
    "                        figsize=(8,8),\n",
    "                        stacked=False)\n",
    "#printPlots(cleanLymphData)"
   ]
  },
  {
   "cell_type": "code",
   "execution_count": 4,
   "metadata": {},
   "outputs": [
    {
     "name": "stdout",
     "output_type": "stream",
     "text": [
      "                       feature        VIF\n",
      "0              Lym_nodes_dimin  18.003361\n",
      "1              Lym_nodes_enlar  22.650022\n",
      "2               No_of_nodes_in   7.987121\n",
      "3          Lymphatics_deformed   2.230460\n",
      "4         Lymphatics_displaced   1.932369\n",
      "5            Lymphatics_normal   3.975604\n",
      "6          Block_of_affere_yes   4.021349\n",
      "7            Bl_of_lymph_c_yes   2.523446\n",
      "8            Bl_of_lymph_s_yes   2.117263\n",
      "9                  By_pass_yes   2.895520\n",
      "10            Extravasates_yes   3.288911\n",
      "11         Regeneration_of_yes   2.390057\n",
      "12         Early_uptake_in_yes   5.323929\n",
      "13         Changes_in_lym_oval  15.705746\n",
      "14        Changes_in_lym_round  16.267648\n",
      "15   Defect_in_node_lac_margin   2.947968\n",
      "16      Defect_in_node_lacunar   2.808634\n",
      "17           Defect_in_node_no   4.880962\n",
      "18  Changes_in_node_lac_margin   6.582004\n",
      "19     Changes_in_node_lacunar   3.510104\n",
      "20          Changes_in_node_no   3.109767\n",
      "21     Changes_in_stru_diluted   2.379259\n",
      "22   Changes_in_stru_drop_like   2.198803\n",
      "23       Changes_in_stru_faint   3.054601\n",
      "24      Changes_in_stru_grainy   1.820580\n",
      "25          Changes_in_stru_no   1.544893\n",
      "26   Changes_in_stru_reticular   1.193308\n",
      "27    Changes_in_stru_stripped   1.784470\n",
      "28            Special_forms_no   2.310388\n",
      "29      Special_forms_vesicles   4.476063\n",
      "30          Dislocation_of_yes   4.627118\n",
      "31         Exclusion_of_no_yes   7.566319\n",
      "                       feature        VIF\n",
      "0              Lym_nodes_dimin  18.003361\n",
      "1              Lym_nodes_enlar  22.650022\n",
      "2               No_of_nodes_in   7.987121\n",
      "12         Early_uptake_in_yes   5.323929\n",
      "13         Changes_in_lym_oval  15.705746\n",
      "14        Changes_in_lym_round  16.267648\n",
      "18  Changes_in_node_lac_margin   6.582004\n",
      "31         Exclusion_of_no_yes   7.566319\n"
     ]
    }
   ],
   "source": [
    "## Checking for multicollinearity in the predictor variables\n",
    "from statsmodels.stats.outliers_influence import variance_inflation_factor\n",
    "  \n",
    "# VIF dataframe\n",
    "vif_data = pd.DataFrame()\n",
    "vif_data[\"feature\"] = xVars.columns\n",
    "  \n",
    "# calculating VIF for each feature\n",
    "vif_data[\"VIF\"] = [variance_inflation_factor(xVars.values, i)\n",
    "                          for i in range(len(xVars.columns))]\n",
    "  \n",
    "print(vif_data)\n",
    "print(vif_data[vif_data['VIF'] >= 5])\n",
    "\n",
    "## Removing the variables with VIF > 5\n",
    "xVarsSubset = xVars.drop(['Lym_nodes_dimin', 'Lym_nodes_enlar', 'No_of_nodes_in',\n",
    "                'Early_uptake_in_yes', 'Changes_in_lym_oval', 'Changes_in_lym_round',\n",
    "                'Changes_in_node_lac_margin', 'Exclusion_of_no_yes'], axis=1)"
   ]
  },
  {
   "cell_type": "code",
   "execution_count": 63,
   "metadata": {},
   "outputs": [],
   "source": [
    "# Then split the X and Y datasets into train and test datasets\n",
    "xVar_train, xVar_test, yVar_train, yVar_test = train_test_split(xVarsSubset, yVar, test_size=0.5)"
   ]
  },
  {
   "cell_type": "markdown",
   "metadata": {},
   "source": [
    "MULTINOMIAL LOGISTIC REGRESSION MODEL"
   ]
  },
  {
   "cell_type": "code",
   "execution_count": 76,
   "metadata": {},
   "outputs": [
    {
     "name": "stdout",
     "output_type": "stream",
     "text": [
      "Multinomial Logistic Regression Confusion Matrix:\n",
      "col_0         malign_lymph  metastases\n",
      "Class                                 \n",
      "fibrosis                 2           0\n",
      "malign_lymph            19          13\n",
      "metastases               7          31\n",
      "normal                   0           2\n",
      "Multinomial Logistic Regression Train Dataset Model Metrics:\n",
      "              precision    recall  f1-score   support\n",
      "\n",
      "    fibrosis       1.00      1.00      1.00         2\n",
      "malign_lymph       0.89      0.83      0.86        29\n",
      "  metastases       0.89      0.93      0.91        43\n",
      "\n",
      "    accuracy                           0.89        74\n",
      "   macro avg       0.93      0.92      0.92        74\n",
      "weighted avg       0.89      0.89      0.89        74\n",
      "\n",
      "Multinomial Logistic Regression Test Dataset Model Metrics:\n",
      "              precision    recall  f1-score   support\n",
      "\n",
      "    fibrosis       0.00      0.00      0.00         2\n",
      "malign_lymph       0.68      0.59      0.63        32\n",
      "  metastases       0.67      0.82      0.74        38\n",
      "      normal       0.00      0.00      0.00         2\n",
      "\n",
      "    accuracy                           0.68        74\n",
      "   macro avg       0.34      0.35      0.34        74\n",
      "weighted avg       0.64      0.68      0.65        74\n",
      "\n"
     ]
    }
   ],
   "source": [
    "from sklearn.linear_model import LogisticRegression\n",
    "\n",
    "## Fit the model\n",
    "multLogitModel = LogisticRegression(multi_class='multinomial',solver ='newton-cg')\n",
    "multLogitModel.fit(xVar_train, yVar_train)\n",
    "\n",
    "## Make predictions\n",
    "# Predicting the test set results\n",
    "y_pred_multLogit = multLogitModel.predict(xVar_test)\n",
    "\n",
    "## Make confusion matrix\n",
    "print(\"Multinomial Logistic Regression Confusion Matrix:\")\n",
    "print(pd.crosstab(yVar_test, y_pred_multLogit))\n",
    "\n",
    "## Print metrics of the model\n",
    "print(\"Multinomial Logistic Regression Train Dataset Model Metrics:\")\n",
    "print(classification_report(yVar_train, multLogitModel.predict(xVar_train),\n",
    "zero_division=0))\n",
    "print(\"Multinomial Logistic Regression Test Dataset Model Metrics:\")\n",
    "print(classification_report(yVar_test, y_pred_multLogit, zero_division=0))\n",
    "\n"
   ]
  },
  {
   "cell_type": "code",
   "execution_count": 71,
   "metadata": {},
   "outputs": [],
   "source": [
    "# WORK IN PROGRESS\n",
    "\n",
    "#from yellowbrick.classifier import ROCAUC\n",
    "#print(xVar_test.shape)\n",
    "#print(yVar_test.shape)\n",
    "#oz = ROCAUC(LogisticRegression(), classes=[\"fibrosis\", \"malign_lymph\", \"metastases\", \"normal\"])\n",
    "#oz.fit(xVar_train, yVar_train)\n",
    "#oz.score(xVar_test, yVar_test)\n",
    "#oz.show()"
   ]
  },
  {
   "cell_type": "markdown",
   "metadata": {},
   "source": [
    "SUPPORT VECTOR MACHINE MODEL"
   ]
  },
  {
   "cell_type": "code",
   "execution_count": 77,
   "metadata": {},
   "outputs": [
    {
     "name": "stdout",
     "output_type": "stream",
     "text": [
      "Fitting 5 folds for each of 50 candidates, totalling 250 fits\n"
     ]
    },
    {
     "name": "stderr",
     "output_type": "stream",
     "text": [
      "/Library/Frameworks/Python.framework/Versions/3.10/lib/python3.10/site-packages/sklearn/model_selection/_split.py:676: UserWarning: The least populated class in y has only 2 members, which is less than n_splits=5.\n",
      "  warnings.warn(\n"
     ]
    },
    {
     "name": "stdout",
     "output_type": "stream",
     "text": [
      "SVM Best Parameters: {'C': 1, 'gamma': 0.1, 'kernel': 'rbf'}\n",
      "col_0         fibrosis  malign_lymph  metastases\n",
      "Class                                           \n",
      "fibrosis             0             2           0\n",
      "malign_lymph         1            20          11\n",
      "metastases           0             5          33\n",
      "normal               0             0           2\n",
      "SVM Train Dataset Model Metrics:\n",
      "              precision    recall  f1-score   support\n",
      "\n",
      "    fibrosis       1.00      1.00      1.00         2\n",
      "malign_lymph       0.93      0.86      0.89        29\n",
      "  metastases       0.91      0.95      0.93        43\n",
      "\n",
      "    accuracy                           0.92        74\n",
      "   macro avg       0.95      0.94      0.94        74\n",
      "weighted avg       0.92      0.92      0.92        74\n",
      "\n",
      "SVM Test Dataset Model Metrics:\n",
      "              precision    recall  f1-score   support\n",
      "\n",
      "    fibrosis       0.00      0.00      0.00         2\n",
      "malign_lymph       0.74      0.62      0.68        32\n",
      "  metastases       0.72      0.87      0.79        38\n",
      "      normal       0.00      0.00      0.00         2\n",
      "\n",
      "    accuracy                           0.72        74\n",
      "   macro avg       0.36      0.37      0.37        74\n",
      "weighted avg       0.69      0.72      0.70        74\n",
      "\n"
     ]
    },
    {
     "name": "stderr",
     "output_type": "stream",
     "text": [
      "/Library/Frameworks/Python.framework/Versions/3.10/lib/python3.10/site-packages/sklearn/metrics/_classification.py:1318: UndefinedMetricWarning: Precision and F-score are ill-defined and being set to 0.0 in labels with no predicted samples. Use `zero_division` parameter to control this behavior.\n",
      "  _warn_prf(average, modifier, msg_start, len(result))\n",
      "/Library/Frameworks/Python.framework/Versions/3.10/lib/python3.10/site-packages/sklearn/metrics/_classification.py:1318: UndefinedMetricWarning: Precision and F-score are ill-defined and being set to 0.0 in labels with no predicted samples. Use `zero_division` parameter to control this behavior.\n",
      "  _warn_prf(average, modifier, msg_start, len(result))\n",
      "/Library/Frameworks/Python.framework/Versions/3.10/lib/python3.10/site-packages/sklearn/metrics/_classification.py:1318: UndefinedMetricWarning: Precision and F-score are ill-defined and being set to 0.0 in labels with no predicted samples. Use `zero_division` parameter to control this behavior.\n",
      "  _warn_prf(average, modifier, msg_start, len(result))\n"
     ]
    }
   ],
   "source": [
    "from sklearn.svm import SVC\n",
    "from sklearn.model_selection import GridSearchCV\n",
    "\n",
    "## Finding the best hyperparameters\n",
    "params = {\n",
    "    'C': [0.1, 1, 10, 100, 1000],\n",
    "    'gamma': [1, 0.1, 0.01, 0.001, 0.0001],\n",
    "    'kernel': ['rbf', 'linear']\n",
    "}\n",
    "\n",
    "svmModel = GridSearchCV(\n",
    "    estimator=SVC(),\n",
    "    param_grid=params,\n",
    "    cv=5,\n",
    "    n_jobs=5,\n",
    "    verbose=1\n",
    ")\n",
    "\n",
    "svmModel.fit(xVar_train, yVar_train)\n",
    "print(\"SVM Best Parameters:\", svmModel.best_params_)\n",
    "\n",
    "## Building and fitting the classifier\n",
    "svmModel = SVC(kernel='linear', gamma=1, C=1)\n",
    "svmModel.fit(xVar_train, yVar_train)\n",
    "\n",
    "## Make predictions\n",
    "# Predicting the test set results\n",
    "y_pred_svm = svmModel.predict(xVar_test)\n",
    "\n",
    "## Make confusion matrix\n",
    "print(\"SVM Confusion Matrix:\")\n",
    "print(pd.crosstab(yVar_test, y_pred_svm))\n",
    "\n",
    "## Print metrics of the model\n",
    "print(\"SVM Train Dataset Model Metrics:\")\n",
    "print(classification_report(yVar_train, svmModel.predict(xVar_train)))\n",
    "print(\"SVM Test Dataset Model Metrics:\")\n",
    "print(classification_report(yVar_test, y_pred_svm))\n"
   ]
  },
  {
   "cell_type": "markdown",
   "metadata": {},
   "source": [
    "RANDOM FOREST MODEL"
   ]
  },
  {
   "cell_type": "code",
   "execution_count": 74,
   "metadata": {},
   "outputs": [
    {
     "name": "stdout",
     "output_type": "stream",
     "text": [
      "Random Forest Confusion Matrix:\n",
      "col_0         malign_lymph  metastases\n",
      "Class                                 \n",
      "fibrosis                 2           0\n",
      "malign_lymph            18          14\n",
      "metastases               3          35\n",
      "normal                   0           2\n",
      "Random Forest Train Dataset Model Metrics:\n",
      "              precision    recall  f1-score   support\n",
      "\n",
      "    fibrosis       1.00      1.00      1.00         2\n",
      "malign_lymph       1.00      1.00      1.00        29\n",
      "  metastases       1.00      1.00      1.00        43\n",
      "\n",
      "    accuracy                           1.00        74\n",
      "   macro avg       1.00      1.00      1.00        74\n",
      "weighted avg       1.00      1.00      1.00        74\n",
      "\n",
      "Random Forest Test Dataset Model Metrics:\n",
      "              precision    recall  f1-score   support\n",
      "\n",
      "    fibrosis       0.00      0.00      0.00         2\n",
      "malign_lymph       0.78      0.56      0.65        32\n",
      "  metastases       0.69      0.92      0.79        38\n",
      "      normal       0.00      0.00      0.00         2\n",
      "\n",
      "    accuracy                           0.72        74\n",
      "   macro avg       0.37      0.37      0.36        74\n",
      "weighted avg       0.69      0.72      0.69        74\n",
      "\n"
     ]
    },
    {
     "name": "stderr",
     "output_type": "stream",
     "text": [
      "/Library/Frameworks/Python.framework/Versions/3.10/lib/python3.10/site-packages/sklearn/metrics/_classification.py:1318: UndefinedMetricWarning: Precision and F-score are ill-defined and being set to 0.0 in labels with no predicted samples. Use `zero_division` parameter to control this behavior.\n",
      "  _warn_prf(average, modifier, msg_start, len(result))\n",
      "/Library/Frameworks/Python.framework/Versions/3.10/lib/python3.10/site-packages/sklearn/metrics/_classification.py:1318: UndefinedMetricWarning: Precision and F-score are ill-defined and being set to 0.0 in labels with no predicted samples. Use `zero_division` parameter to control this behavior.\n",
      "  _warn_prf(average, modifier, msg_start, len(result))\n",
      "/Library/Frameworks/Python.framework/Versions/3.10/lib/python3.10/site-packages/sklearn/metrics/_classification.py:1318: UndefinedMetricWarning: Precision and F-score are ill-defined and being set to 0.0 in labels with no predicted samples. Use `zero_division` parameter to control this behavior.\n",
      "  _warn_prf(average, modifier, msg_start, len(result))\n"
     ]
    }
   ],
   "source": [
    "from sklearn.ensemble import RandomForestClassifier\n",
    "\n",
    "## Building and fitting the classifier\n",
    "rfMmodel = RandomForestClassifier()\n",
    "rfMmodel.fit(xVar_train, yVar_train)\n",
    "\n",
    "## Make predictions\n",
    "# Predicting the test set results\n",
    "y_pred_rf = rfMmodel.predict(xVar_test)\n",
    "\n",
    "## Make confusion matrix\n",
    "print(\"Random Forest Confusion Matrix:\")\n",
    "print(pd.crosstab(yVar_test, y_pred_rf))\n",
    "\n",
    "## Print metrics of the model\n",
    "print(\"Random Forest Train Dataset Model Metrics:\")\n",
    "print(classification_report(yVar_train, rfMmodel.predict(xVar_train)))\n",
    "print(\"Random Forest Test Dataset Model Metrics:\")\n",
    "print(classification_report(yVar_test, y_pred_rf))\n"
   ]
  },
  {
   "cell_type": "code",
   "execution_count": 75,
   "metadata": {},
   "outputs": [
    {
     "name": "stdout",
     "output_type": "stream",
     "text": [
      "Variable: Block_of_affere_yes  Importance: 0.19\n",
      "Variable: Special_forms_no     Importance: 0.11\n",
      "Variable: Special_forms_vesicles Importance: 0.09\n",
      "Variable: Dislocation_of_yes   Importance: 0.08\n",
      "Variable: Changes_in_stru_faint Importance: 0.07\n",
      "Variable: Changes_in_node_lacunar Importance: 0.06\n",
      "Variable: Lymphatics_deformed  Importance: 0.05\n",
      "Variable: By_pass_yes          Importance: 0.05\n",
      "Variable: Extravasates_yes     Importance: 0.05\n",
      "Variable: Lymphatics_displaced Importance: 0.04\n",
      "Variable: Defect_in_node_lac_margin Importance: 0.04\n",
      "Variable: Bl_of_lymph_c_yes    Importance: 0.03\n",
      "Variable: Regeneration_of_yes  Importance: 0.03\n",
      "Variable: Defect_in_node_lacunar Importance: 0.03\n",
      "Variable: Bl_of_lymph_s_yes    Importance: 0.02\n",
      "Variable: Changes_in_stru_diluted Importance: 0.02\n",
      "Variable: Changes_in_stru_drop_like Importance: 0.02\n",
      "Variable: Changes_in_stru_grainy Importance: 0.01\n",
      "Variable: Changes_in_stru_reticular Importance: 0.01\n",
      "Variable: Lymphatics_normal    Importance: 0.0\n",
      "Variable: Defect_in_node_no    Importance: 0.0\n",
      "Variable: Changes_in_node_no   Importance: 0.0\n",
      "Variable: Changes_in_stru_no   Importance: 0.0\n",
      "Variable: Changes_in_stru_stripped Importance: 0.0\n",
      "Random Forest Most Important Features Train Dataset Model Metrics:\n",
      "              precision    recall  f1-score   support\n",
      "\n",
      "    fibrosis       0.00      0.00      0.00         2\n",
      "malign_lymph       0.89      0.59      0.71        29\n",
      "  metastases       0.75      0.95      0.84        43\n",
      "\n",
      "    accuracy                           0.78        74\n",
      "   macro avg       0.55      0.51      0.52        74\n",
      "weighted avg       0.78      0.78      0.76        74\n",
      "\n",
      "Random Forest Most Important Features Test Dataset Model Metrics:\n",
      "              precision    recall  f1-score   support\n",
      "\n",
      "    fibrosis       0.00      0.00      0.00         2\n",
      "malign_lymph       0.79      0.47      0.59        32\n",
      "  metastases       0.65      0.95      0.77        38\n",
      "      normal       0.00      0.00      0.00         2\n",
      "\n",
      "    accuracy                           0.69        74\n",
      "   macro avg       0.36      0.35      0.34        74\n",
      "weighted avg       0.68      0.69      0.65        74\n",
      "\n"
     ]
    },
    {
     "name": "stderr",
     "output_type": "stream",
     "text": [
      "/Library/Frameworks/Python.framework/Versions/3.10/lib/python3.10/site-packages/sklearn/metrics/_classification.py:1318: UndefinedMetricWarning: Precision and F-score are ill-defined and being set to 0.0 in labels with no predicted samples. Use `zero_division` parameter to control this behavior.\n",
      "  _warn_prf(average, modifier, msg_start, len(result))\n",
      "/Library/Frameworks/Python.framework/Versions/3.10/lib/python3.10/site-packages/sklearn/metrics/_classification.py:1318: UndefinedMetricWarning: Precision and F-score are ill-defined and being set to 0.0 in labels with no predicted samples. Use `zero_division` parameter to control this behavior.\n",
      "  _warn_prf(average, modifier, msg_start, len(result))\n",
      "/Library/Frameworks/Python.framework/Versions/3.10/lib/python3.10/site-packages/sklearn/metrics/_classification.py:1318: UndefinedMetricWarning: Precision and F-score are ill-defined and being set to 0.0 in labels with no predicted samples. Use `zero_division` parameter to control this behavior.\n",
      "  _warn_prf(average, modifier, msg_start, len(result))\n",
      "/Library/Frameworks/Python.framework/Versions/3.10/lib/python3.10/site-packages/sklearn/metrics/_classification.py:1318: UndefinedMetricWarning: Precision and F-score are ill-defined and being set to 0.0 in labels with no predicted samples. Use `zero_division` parameter to control this behavior.\n",
      "  _warn_prf(average, modifier, msg_start, len(result))\n",
      "/Library/Frameworks/Python.framework/Versions/3.10/lib/python3.10/site-packages/sklearn/metrics/_classification.py:1318: UndefinedMetricWarning: Precision and F-score are ill-defined and being set to 0.0 in labels with no predicted samples. Use `zero_division` parameter to control this behavior.\n",
      "  _warn_prf(average, modifier, msg_start, len(result))\n",
      "/Library/Frameworks/Python.framework/Versions/3.10/lib/python3.10/site-packages/sklearn/metrics/_classification.py:1318: UndefinedMetricWarning: Precision and F-score are ill-defined and being set to 0.0 in labels with no predicted samples. Use `zero_division` parameter to control this behavior.\n",
      "  _warn_prf(average, modifier, msg_start, len(result))\n"
     ]
    }
   ],
   "source": [
    "## Print the feature importances\n",
    "# Saving feature names for later use\n",
    "feature_list = list(xVar_train.columns)\n",
    "# Get numerical feature importances\n",
    "importances = list(rfMmodel.feature_importances_)# List of tuples with variable and importance\n",
    "feature_importances = [(feature, round(importance, 2)) for feature, importance in zip(feature_list, importances)]\n",
    "# Sort the feature importances by most important first\n",
    "feature_importances = sorted(feature_importances, key = lambda x: x[1], reverse = True)\n",
    "# Print out the feature and importances \n",
    "[print('Variable: {:20} Importance: {}'.format(*pair)) for pair in feature_importances]\n",
    "\n",
    "## Build a new model with just the two most important features\n",
    "# Extract the two most important features\n",
    "rf_most_important = RandomForestClassifier()\n",
    "important_indices = [feature_list.index('Block_of_affere_yes'), feature_list.index('Special_forms_vesicles')]\n",
    "xVar_train_important = xVar_train[['Block_of_affere_yes', 'Special_forms_vesicles']]\n",
    "xVar_test_important = xVar_test[['Block_of_affere_yes', 'Special_forms_vesicles']] \n",
    "# Fit the classifier\n",
    "rf_most_important.fit(xVar_train_important, yVar_train)\n",
    "# Make predictions \n",
    "y_pred_rf_most_import = rf_most_important.predict(xVar_test_important)\n",
    "\n",
    "## Print metrics of the model\n",
    "print(\"Random Forest Most Important Features Train Dataset Model Metrics:\")\n",
    "print(classification_report(yVar_train, rf_most_important.predict(xVar_train_important)))\n",
    "print(\"Random Forest Most Important Features Test Dataset Model Metrics:\")\n",
    "print(classification_report(yVar_test, y_pred_rf_most_import))"
   ]
  }
 ],
 "metadata": {
  "interpreter": {
   "hash": "aee8b7b246df8f9039afb4144a1f6fd8d2ca17a180786b69acc140d282b71a49"
  },
  "kernelspec": {
   "display_name": "Python 3.10.4 64-bit",
   "language": "python",
   "name": "python3"
  },
  "language_info": {
   "codemirror_mode": {
    "name": "ipython",
    "version": 3
   },
   "file_extension": ".py",
   "mimetype": "text/x-python",
   "name": "python",
   "nbconvert_exporter": "python",
   "pygments_lexer": "ipython3",
   "version": "3.10.4"
  },
  "orig_nbformat": 4
 },
 "nbformat": 4,
 "nbformat_minor": 2
}
