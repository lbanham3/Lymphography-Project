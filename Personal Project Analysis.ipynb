{
 "cells": [
  {
   "cell_type": "markdown",
   "metadata": {},
   "source": [
    "CLASSIFICATION OF LYMPH NODES\n",
    "\n",
    "AUTHOR: Laura Banham\n",
    "\n",
    "DATE STARTED: 05/25/2022\n",
    "\n",
    "Data obtained from: https://archive.ics.uci.edu/ml/datasets/Lymphography\n"
   ]
  },
  {
   "cell_type": "code",
   "execution_count": null,
   "metadata": {},
   "outputs": [],
   "source": [
    "# Import libraries\n",
    "import pandas as pd\n",
    "from sklearn.model_selection import train_test_split\n",
    "import numpy as np\n",
    "from sklearn.metrics import classification_report, confusion_matrix"
   ]
  },
  {
   "cell_type": "code",
   "execution_count": null,
   "metadata": {},
   "outputs": [],
   "source": [
    "## Import the dataset\n",
    "lymphData = pd.read_excel('lymphography.xlsx')\n",
    "\n",
    "## Format the dataset\n",
    "# Change all object (string) variables to categorical variables\n",
    "cleanLymphData = pd.concat([\n",
    "        lymphData.select_dtypes([], ['object']),\n",
    "        lymphData.select_dtypes(['object']).apply(pd.Series.astype, dtype='category')\n",
    "        ], axis=1).reindex(lymphData.columns, axis=1)\n",
    "\n",
    "# Split the dataset into X and Y variables\n",
    "xVars = cleanLymphData.drop(['Class'], axis=1)\n",
    "xVars = pd.get_dummies(data=xVars, drop_first=True)\n",
    "\n",
    "yVar = cleanLymphData['Class']\n",
    "\n"
   ]
  },
  {
   "cell_type": "code",
   "execution_count": null,
   "metadata": {},
   "outputs": [],
   "source": [
    "## Additional helper code\n",
    "#print(list(lymphData.columns))\n",
    "#print(lymphData.Lymphatics.unique())\n",
    "#lymphData.info()\n",
    "#cleanLymphData['ClassCat'] = cleanLymphData['Class'].apply(lambda x: 0 if (x == \"normal\") else 1) \n",
    "#print(cleanLymphData[['Class', 'ClassCat']])\n",
    "#xVars = cleanLymphData.iloc[:, :-2]\n",
    "#print(list(xVars.columns))\n",
    "#yVarCat = cleanLymphData.iloc[:, -1]"
   ]
  },
  {
   "cell_type": "code",
   "execution_count": null,
   "metadata": {},
   "outputs": [],
   "source": [
    "## Exploratory visualizations of the data\n",
    "def printPlots(df):\n",
    "    for i in range(1,19):\n",
    "        name = df.columns[i]\n",
    "        clarity_color_table = pd.crosstab(index=df[name]  , \n",
    "                          columns=df[\"Class\"])\n",
    "\n",
    "        clarity_color_table.plot(kind=\"bar\", \n",
    "                        figsize=(8,8),\n",
    "                        stacked=False)\n",
    "#printPlots(cleanLymphData)"
   ]
  },
  {
   "cell_type": "code",
   "execution_count": null,
   "metadata": {},
   "outputs": [],
   "source": [
    "## Checking for multicollinearity in the predictor variables\n",
    "from statsmodels.stats.outliers_influence import variance_inflation_factor\n",
    "  \n",
    "# VIF dataframe\n",
    "vif_data = pd.DataFrame()\n",
    "vif_data[\"feature\"] = xVars.columns\n",
    "  \n",
    "# calculating VIF for each feature\n",
    "vif_data[\"VIF\"] = [variance_inflation_factor(xVars.values, i)\n",
    "                          for i in range(len(xVars.columns))]\n",
    "  \n",
    "#print(vif_data)\n",
    "#print(vif_data[vif_data['VIF'] >= 5])\n",
    "\n",
    "## Removing the variables with VIF > 5\n",
    "xVarsSubset = xVars.drop(['Lym_nodes_dimin', 'Lym_nodes_enlar', 'No_of_nodes_in',\n",
    "                'Early_uptake_in_yes', 'Changes_in_lym_oval', 'Changes_in_lym_round',\n",
    "                'Changes_in_node_lac_margin', 'Exclusion_of_no_yes'], axis=1)\n",
    "#print(cleanLymphData.columns)"
   ]
  },
  {
   "cell_type": "code",
   "execution_count": null,
   "metadata": {},
   "outputs": [],
   "source": [
    "# Then split the X and Y datasets into train and test datasets\n",
    "xVar_train, xVar_test, yVar_train, yVar_test = train_test_split(xVarsSubset, yVar, test_size=0.2)\n",
    "#xVar_train.info()"
   ]
  },
  {
   "cell_type": "markdown",
   "metadata": {},
   "source": [
    "MULTINOMIAL LOGISTIC REGRESSION MODEL"
   ]
  },
  {
   "cell_type": "code",
   "execution_count": null,
   "metadata": {},
   "outputs": [],
   "source": [
    "from sklearn.linear_model import LogisticRegression\n",
    "\n",
    "## Fit the model\n",
    "multLogitModel = LogisticRegression(multi_class='multinomial',solver ='newton-cg')\n",
    "multLogitModel.fit(xVar_train, yVar_train)\n",
    "\n",
    "## Make predictions\n",
    "# Predicting the test set results\n",
    "y_pred_multLogit = multLogitModel.predict(xVar_test)\n",
    "\n",
    "## Make confusion matrix\n",
    "print(pd.crosstab(yVar_test, y_pred_multLogit))\n",
    "\n",
    "## Print the accuracy of the model\n",
    "from sklearn.metrics import accuracy_score\n",
    "print(\"Multinomial Logistic Regression Train Dataset Accuracy:\", accuracy_score(yVar_train, multLogitModel.predict(xVar_train)))\n",
    "print(\"Multinomial Logistic Regression Test Dataset Accuracy:\", accuracy_score(yVar_test, multLogitModel.predict(xVar_test)))"
   ]
  },
  {
   "cell_type": "markdown",
   "metadata": {},
   "source": [
    "SUPPORT VECTOR MACHINE MODEL"
   ]
  },
  {
   "cell_type": "code",
   "execution_count": null,
   "metadata": {},
   "outputs": [],
   "source": [
    "from sklearn.svm import SVC\n",
    "from sklearn.model_selection import GridSearchCV\n",
    "\n",
    "## Finding the best hyperparameters\n",
    "params = {\n",
    "    'C': [0.1, 1, 10, 100, 1000],\n",
    "    'gamma': [1, 0.1, 0.01, 0.001, 0.0001],\n",
    "    'kernel': ['rbf', 'linear']\n",
    "}\n",
    "\n",
    "svmModel = GridSearchCV(\n",
    "    estimator=SVC(),\n",
    "    param_grid=params,\n",
    "    cv=5,\n",
    "    n_jobs=5,\n",
    "    verbose=1\n",
    ")\n",
    "\n",
    "svmModel.fit(xVar_train, yVar_train)\n",
    "print(\"SVM Best Parameters:\", svmModel.best_params_)\n",
    "\n",
    "## Building and fitting the classifier\n",
    "svmModel = SVC(kernel='linear', gamma=1, C=1)\n",
    "svmModel.fit(xVar_train, yVar_train)\n",
    "\n",
    "## Make predictions\n",
    "# Predicting the test set results\n",
    "y_pred_svm = svmModel.predict(xVar_test)\n",
    "\n",
    "## Make confusion matrix\n",
    "print(pd.crosstab(yVar_test, y_pred_svm))\n",
    "\n",
    "## Print the accuracy of the model\n",
    "print(\"SVM Train Dataset Accuracy:\", accuracy_score(yVar_train, svmModel.predict(xVar_train)))\n",
    "print(\"SVM Test Dataset Accuracy:\", accuracy_score(yVar_test, svmModel.predict(xVar_test)))\n"
   ]
  },
  {
   "cell_type": "markdown",
   "metadata": {},
   "source": [
    "RANDOM FOREST MODEL"
   ]
  },
  {
   "cell_type": "code",
   "execution_count": null,
   "metadata": {},
   "outputs": [],
   "source": [
    "from sklearn.ensemble import RandomForestClassifier\n",
    "\n",
    "## Building and fitting the classifier\n",
    "rfMmodel = RandomForestClassifier()\n",
    "rfMmodel.fit(xVar_train, yVar_train)\n",
    "\n",
    "## Make predictions\n",
    "# Predicting the test set results\n",
    "y_pred_rf = rfMmodel.predict(xVar_test)\n",
    "\n",
    "## Make confusion matrix\n",
    "print(pd.crosstab(yVar_test, y_pred_rf))\n",
    "\n",
    "## Print the accuracy of the model\n",
    "print(\"Random Forest Train Dataset Accuracy:\", accuracy_score(yVar_train, rfMmodel.predict(xVar_train)))\n",
    "print(\"Random Forest Test Dataset Accuracy:\", accuracy_score(yVar_test, rfMmodel.predict(xVar_test)))\n"
   ]
  },
  {
   "cell_type": "code",
   "execution_count": null,
   "metadata": {},
   "outputs": [],
   "source": [
    "## Print the feature importances\n",
    "# Saving feature names for later use\n",
    "feature_list = list(xVar_train.columns)\n",
    "# Get numerical feature importances\n",
    "importances = list(rfMmodel.feature_importances_)# List of tuples with variable and importance\n",
    "feature_importances = [(feature, round(importance, 2)) for feature, importance in zip(feature_list, importances)]\n",
    "# Sort the feature importances by most important first\n",
    "feature_importances = sorted(feature_importances, key = lambda x: x[1], reverse = True)\n",
    "# Print out the feature and importances \n",
    "[print('Variable: {:20} Importance: {}'.format(*pair)) for pair in feature_importances]\n",
    "\n",
    "## Build a new model with just the two most important features\n",
    "# Extract the two most important features\n",
    "rf_most_important = RandomForestClassifier()\n",
    "important_indices = [feature_list.index('Block_of_affere_yes'), feature_list.index('Special_forms_vesicles')]\n",
    "xVar_train_important = xVar_train[['Block_of_affere_yes', 'Special_forms_vesicles']]\n",
    "xVar_test_important = xVar_test[['Block_of_affere_yes', 'Special_forms_vesicles']] \n",
    "# Fit the classifier\n",
    "rf_most_important.fit(xVar_train_important, yVar_train)\n",
    "# Make predictions and determine the error\n",
    "predictions = rf_most_important.predict(xVar_test_important)\n",
    "\n",
    "## Print the accuracy of the model\n",
    "print(\"Random Forest Most Important Train Dataset Accuracy:\", accuracy_score(yVar_train, rf_most_important.predict(xVar_train_important)))\n",
    "print(\"Random Forest Most Important Test Dataset Accuracy:\", accuracy_score(yVar_test, rf_most_important.predict(xVar_test_important)))"
   ]
  }
 ],
 "metadata": {
  "interpreter": {
   "hash": "aee8b7b246df8f9039afb4144a1f6fd8d2ca17a180786b69acc140d282b71a49"
  },
  "kernelspec": {
   "display_name": "Python 3.10.4 64-bit",
   "language": "python",
   "name": "python3"
  },
  "language_info": {
   "codemirror_mode": {
    "name": "ipython",
    "version": 3
   },
   "file_extension": ".py",
   "mimetype": "text/x-python",
   "name": "python",
   "nbconvert_exporter": "python",
   "pygments_lexer": "ipython3",
   "version": "3.10.4"
  },
  "orig_nbformat": 4
 },
 "nbformat": 4,
 "nbformat_minor": 2
}
